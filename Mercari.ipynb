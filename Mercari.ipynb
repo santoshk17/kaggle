{
  "cells": [
    {
      "metadata": {
        "_uuid": "8f2839f25d086af736a60e9eeb907d3b93b6e0e5",
        "_cell_guid": "b1076dfc-b9ad-4769-8c92-a6c4dae69d19"
      },
      "cell_type": "markdown",
      "source": "# Mercari Price Suggestion Challenge\n[A Santosh Kumar](https://github.com/santoshk17) - Feb 2018"
    },
    {
      "metadata": {
        "_uuid": "d629ff2d2480ee46fbb7e2d37f6b5fab8052498a",
        "collapsed": true,
        "_cell_guid": "79c7e3d0-c299-4dcb-8224-4455121ee9b0"
      },
      "cell_type": "markdown",
      "source": "### Contents\n1. [Introduction](#intro)\n    * [Packages Needed](#package)\n2. [Exploratory Data Analysis and Feature Engineering](#eda)\n    * [Loading data](#loading_data)\n    * [Price Distribution](#price_distribution)\n    * [Word Count](#word_count)\n    * [Handling Missing Data](#Handling_Missing_Data)\n    * [Categorial Data](#categorical_data)\n    * [Adding SubCategories](#Adding_SubCategories)\n    * [Retrieving Brand Name](#Retrieving_Brand_Name)\n    * [Text to Sequence](#Text_to_Sequence)\n    * [RMSLE](#rmsle)\n \n3. [RNN Model](#rnn_model)\n    * [Model Building](#Model_Building)\n    * [Model Evaluation](#Model_Evaluation)\n    * [Model Output](#Model_Output)\n    \n4. [Ridge Models](#ridge_models)\n     * [Data Preprocessing](#Data_Preprocessing)\n     * [Model Building](#Model_Building1)\n     * [Model Evaluation](#Model_Evaluation1)\n5. [Ensembling](#ensembling)\n6. [Conclusion](#Conclusion)\n7. [Refrences](#Refrences)\n   \n\n\n\n<a id=\"intro\"></a>\n## <center>1. Introduction</center>"
    },
    {
      "metadata": {
        "_uuid": "4346e4428877c2e17e7d45f5d55055a37e6f8fe9",
        "_cell_guid": "379d5391-da52-4828-8317-bd6c69259470"
      },
      "cell_type": "markdown",
      "source": "Mercari, Japan’s biggest community-powered shopping app, knows this problem deeply. They’d like to offer pricing suggestions to sellers, but this is tough because their sellers are enabled to put just about anything, or any bundle of things, on Mercari's marketplace.\n\nIn this competition, Mercari’s challenging you to build an algorithm that automatically suggests the right product prices. You’ll be provided user-inputted text descriptions of their products, including details like product category name, brand name, and item condition."
    },
    {
      "metadata": {
        "_uuid": "f541cededebb6889c5c6bf5e402a3c304ae421ee",
        "_cell_guid": "a9a86f36-e390-40f5-95c7-b186646f5ca6"
      },
      "cell_type": "markdown",
      "source": "<a id=\"package\"></a>\n#### Packages Needed"
    },
    {
      "metadata": {
        "_uuid": "2c309b166f09c7ce5b913e71590748c5a9c24016",
        "_cell_guid": "9babbf4a-6fe1-4727-a372-bd7a99bb0460",
        "trusted": true
      },
      "cell_type": "code",
      "source": "import gc\nimport os\nimport re\nimport sys\nimport time\nimport wordbatch\nimport numpy as np\nimport pandas as pd\nimport seaborn as sns\nfrom sklearn.preprocessing import LabelEncoder\nfrom keras.preprocessing.sequence import pad_sequences\nfrom sklearn.pipeline import FeatureUnion\nfrom sklearn.feature_extraction.text import CountVectorizer, TfidfVectorizer\n\nimport matplotlib.pyplot as plt\n\n\n\n# for text data\nfrom keras.preprocessing.text import Tokenizer\nfrom wordbatch.extractors import WordBag, WordHash\nfrom wordbatch.models import FTRL, FM_FTRL\nfrom nltk.corpus import stopwords\nfrom scipy.sparse import csr_matrix, hstack\n\n#  for splitting data in to train and validation sets\nfrom sklearn.model_selection import train_test_split\n\n# RNN Model related\nfrom keras.models import Model\nfrom keras.optimizers import Adam\nfrom keras.layers import Input, Dropout, Dense, concatenate, GRU, Embedding, Flatten, Activation\n",
      "execution_count": 1,
      "outputs": [
        {
          "output_type": "stream",
          "text": "/opt/conda/lib/python3.6/site-packages/h5py/__init__.py:36: FutureWarning: Conversion of the second argument of issubdtype from `float` to `np.floating` is deprecated. In future, it will be treated as `np.float64 == np.dtype(float).type`.\n  from ._conv import register_converters as _register_converters\nUsing TensorFlow backend.\n",
          "name": "stderr"
        }
      ]
    },
    {
      "metadata": {
        "_uuid": "6857b764e97886ecfc13ffb0cfccd5ed80c943a4",
        "collapsed": true,
        "_cell_guid": "8b39ab56-d609-4d32-8fdc-af21d7684b24",
        "trusted": true
      },
      "cell_type": "code",
      "source": "\nsys.path.insert(0, '../input/wordbatch/wordbatch/')\n",
      "execution_count": 2,
      "outputs": []
    },
    {
      "metadata": {
        "_uuid": "860304c7f31d11b9fbf1d48300290423672eac0d",
        "collapsed": true,
        "_cell_guid": "0a224d35-7ab1-4c61-a301-6d8a2ea8dc16",
        "trusted": true
      },
      "cell_type": "code",
      "source": "trainDF = pd.read_table('../input/mercari-price-suggestion-challenge/train.tsv', engine='c')\ntestDF = pd.read_table('../input/mercari-price-suggestion-challenge/test.tsv', engine='c')",
      "execution_count": 3,
      "outputs": []
    },
    {
      "metadata": {
        "_uuid": "90866c85cfcbc0e3ec78fa74697af4ab66bea487",
        "_cell_guid": "b481a9b1-83a1-41a9-b7bf-8a68dce477b4",
        "trusted": true
      },
      "cell_type": "code",
      "source": "print('Train shape: ', trainDF.shape)\nprint('Test shape: ', testDF.shape)",
      "execution_count": 4,
      "outputs": [
        {
          "output_type": "stream",
          "text": "Train shape:  (1482535, 8)\nTest shape:  (693359, 7)\n",
          "name": "stdout"
        }
      ]
    },
    {
      "metadata": {
        "_uuid": "f7abb78a2236ef357ddc627a079b7e78f3a118bb",
        "_cell_guid": "d5857076-a36d-4dab-b2d5-a755dba85345",
        "trusted": true
      },
      "cell_type": "code",
      "source": "trainDF.head()",
      "execution_count": 5,
      "outputs": [
        {
          "output_type": "execute_result",
          "execution_count": 5,
          "data": {
            "text/plain": "   train_id                                 name  item_condition_id  \\\n0         0  MLB Cincinnati Reds T Shirt Size XL                  3   \n1         1     Razer BlackWidow Chroma Keyboard                  3   \n2         2                       AVA-VIV Blouse                  1   \n3         3                Leather Horse Statues                  1   \n4         4                 24K GOLD plated rose                  1   \n\n                                       category_name brand_name  price  \\\n0                                  Men/Tops/T-shirts        NaN   10.0   \n1  Electronics/Computers & Tablets/Components & P...      Razer   52.0   \n2                        Women/Tops & Blouses/Blouse     Target   10.0   \n3                 Home/Home Décor/Home Décor Accents        NaN   35.0   \n4                            Women/Jewelry/Necklaces        NaN   44.0   \n\n   shipping                                   item_description  \n0         1                                 No description yet  \n1         0  This keyboard is in great condition and works ...  \n2         1  Adorable top with a hint of lace and a key hol...  \n3         1  New with tags. Leather horses. Retail for [rm]...  \n4         0          Complete with certificate of authenticity  ",
            "text/html": "<div>\n<style scoped>\n    .dataframe tbody tr th:only-of-type {\n        vertical-align: middle;\n    }\n\n    .dataframe tbody tr th {\n        vertical-align: top;\n    }\n\n    .dataframe thead th {\n        text-align: right;\n    }\n</style>\n<table border=\"1\" class=\"dataframe\">\n  <thead>\n    <tr style=\"text-align: right;\">\n      <th></th>\n      <th>train_id</th>\n      <th>name</th>\n      <th>item_condition_id</th>\n      <th>category_name</th>\n      <th>brand_name</th>\n      <th>price</th>\n      <th>shipping</th>\n      <th>item_description</th>\n    </tr>\n  </thead>\n  <tbody>\n    <tr>\n      <th>0</th>\n      <td>0</td>\n      <td>MLB Cincinnati Reds T Shirt Size XL</td>\n      <td>3</td>\n      <td>Men/Tops/T-shirts</td>\n      <td>NaN</td>\n      <td>10.0</td>\n      <td>1</td>\n      <td>No description yet</td>\n    </tr>\n    <tr>\n      <th>1</th>\n      <td>1</td>\n      <td>Razer BlackWidow Chroma Keyboard</td>\n      <td>3</td>\n      <td>Electronics/Computers &amp; Tablets/Components &amp; P...</td>\n      <td>Razer</td>\n      <td>52.0</td>\n      <td>0</td>\n      <td>This keyboard is in great condition and works ...</td>\n    </tr>\n    <tr>\n      <th>2</th>\n      <td>2</td>\n      <td>AVA-VIV Blouse</td>\n      <td>1</td>\n      <td>Women/Tops &amp; Blouses/Blouse</td>\n      <td>Target</td>\n      <td>10.0</td>\n      <td>1</td>\n      <td>Adorable top with a hint of lace and a key hol...</td>\n    </tr>\n    <tr>\n      <th>3</th>\n      <td>3</td>\n      <td>Leather Horse Statues</td>\n      <td>1</td>\n      <td>Home/Home Décor/Home Décor Accents</td>\n      <td>NaN</td>\n      <td>35.0</td>\n      <td>1</td>\n      <td>New with tags. Leather horses. Retail for [rm]...</td>\n    </tr>\n    <tr>\n      <th>4</th>\n      <td>4</td>\n      <td>24K GOLD plated rose</td>\n      <td>1</td>\n      <td>Women/Jewelry/Necklaces</td>\n      <td>NaN</td>\n      <td>44.0</td>\n      <td>0</td>\n      <td>Complete with certificate of authenticity</td>\n    </tr>\n  </tbody>\n</table>\n</div>"
          },
          "metadata": {}
        }
      ]
    },
    {
      "metadata": {
        "_uuid": "4c0ed569c8c9dd971df673c1c170c55c92a3eb00",
        "_cell_guid": "6f03c2c0-0ad3-47a4-8158-8c2275ceb4b4"
      },
      "cell_type": "markdown",
      "source": "<a id=\"price_distribution\"></a>\n#### Price Distribution"
    },
    {
      "metadata": {
        "_uuid": "939ff549d9c1e5cf08195ea4deda8174f61ec299",
        "_cell_guid": "c8c69290-f089-43fa-9f05-32e0d13a2c78",
        "trusted": true
      },
      "cell_type": "code",
      "source": "trainDF.price.describe()",
      "execution_count": 6,
      "outputs": [
        {
          "output_type": "execute_result",
          "execution_count": 6,
          "data": {
            "text/plain": "count    1.482535e+06\nmean     2.673752e+01\nstd      3.858607e+01\nmin      0.000000e+00\n25%      1.000000e+01\n50%      1.700000e+01\n75%      2.900000e+01\nmax      2.009000e+03\nName: price, dtype: float64"
          },
          "metadata": {}
        }
      ]
    },
    {
      "metadata": {
        "_uuid": "1bff636de5d9e757090d26ee55b9f9a18d75d8c8",
        "_cell_guid": "f34ceec0-73ba-47af-89f0-bd8841ef1d61",
        "trusted": true
      },
      "cell_type": "code",
      "source": "plt.subplot(1, 2, 1)\n(trainDF['price']).plot.hist(bins=50, figsize=(20,10), edgecolor='white',range=[0,250])\nplt.xlabel('price+', fontsize=17)\nplt.ylabel('frequency', fontsize=17)\nplt.tick_params(labelsize=15)\nplt.title('Price Distribution - Training Set', fontsize=17)\n\n\nplt.subplot(1, 2, 2)\nnp.log(trainDF['price']+1).plot.hist(bins=50, figsize=(20,10), edgecolor='white')\nplt.xlabel('log(price+1)', fontsize=17)\nplt.ylabel('frequency', fontsize=17)\nplt.tick_params(labelsize=15)\nplt.title('Log(Price) Distribution - Training Set', fontsize=17)\nplt.show()  ",
      "execution_count": 7,
      "outputs": [
        {
          "output_type": "display_data",
          "data": {
            "text/plain": "<matplotlib.figure.Figure at 0x7fa121f1ab38>",
            "image/png": "[encoded data removed]"
          },
          "metadata": {}
        }
      ]
    },
    {
      "metadata": {
        "_uuid": "8e9959faf29022be5e65344f1dad3abee3f1260e",
        "_cell_guid": "d0b30c17-6c71-400e-b7af-23892a51303a",
        "trusted": true
      },
      "cell_type": "code",
      "source": "plt.figure(figsize = (15, 8))\nplt.hist(np.log(trainDF[trainDF.shipping == 1].price+1), bins = 50, alpha = 0.5, label = \"log price with free shipping\")\nplt.hist(np.log(trainDF[trainDF.shipping == 0].price+1), bins = 50, alpha = 0.5, label = \"log price with shipping\")\nplt.legend(fontsize = 10)\nplt.xlabel('log(price+1)', fontsize=17)\nplt.ylabel('frequency', fontsize=17)\nplt.title('Price distribution wrt Shipping', fontsize=17)\nplt.show()",
      "execution_count": 8,
      "outputs": [
        {
          "output_type": "display_data",
          "data": {
            "text/plain": "<matplotlib.figure.Figure at 0x7fa121f1a470>",
            "image/png": "[encoded data removed]"
          },
          "metadata": {}
        }
      ]
    },
    {
      "metadata": {
        "_uuid": "408b0be382d322968e7be2908fbac5849f70bfbb",
        "_cell_guid": "b4b2aab0-7ae7-4947-939d-d6a860fa81bc"
      },
      "cell_type": "markdown",
      "source": "The minimum price of a product is zero, few products have price close to 0. These seem to be outliers. \nFor the purpose of analysis these will be dropped."
    },
    {
      "metadata": {
        "_uuid": "fd8a43e18c4a2ae79c39a6f7cb3a6904809b2369",
        "_cell_guid": "0ced221e-b82e-4d71-a44b-3f8e1b458bc1",
        "trusted": true
      },
      "cell_type": "code",
      "source": "# Dropping low price \ntrainDF = trainDF.drop(trainDF[(trainDF.price < 1.0)].index)\ntrainDF.shape",
      "execution_count": 9,
      "outputs": [
        {
          "output_type": "execute_result",
          "execution_count": 9,
          "data": {
            "text/plain": "(1481661, 8)"
          },
          "metadata": {}
        }
      ]
    },
    {
      "metadata": {
        "_uuid": "2995d0ecdc9df894f1623e01c63bb5d3836a5236",
        "_cell_guid": "cf71e201-9dbe-4dc9-8586-30ddf8dd27b5"
      },
      "cell_type": "markdown",
      "source": "<a id=\"word_count\"></a>\n#### Word Count"
    },
    {
      "metadata": {
        "_uuid": "4ffac58efb30b9117adbf1944c9c133e679f0a69",
        "_cell_guid": "eca60e18-e359-4928-82ac-6da149f12c99"
      },
      "cell_type": "markdown",
      "source": "wordCount finds the number of words in given text.  "
    },
    {
      "metadata": {
        "_uuid": "9e3bde994615eda483e339a2f79eec1abcfb6248",
        "_cell_guid": "3cab97da-490e-49dd-a366-48a16ccda3cf",
        "trusted": true
      },
      "cell_type": "code",
      "source": "# get name and description lengths\ndef WordCount(text):\n    try:\n        if text == 'No description yet':\n            return 0\n        else:\n            text = text.lower()\n            words = [w for w in text.split(\" \")]\n            return len(words)\n    except: \n        return 0\ntrainDF['desc_len'] = trainDF['item_description'].apply(lambda x: WordCount(x))\ntestDF['desc_len'] = testDF['item_description'].apply(lambda x: WordCount(x))\ntrainDF['name_len'] = trainDF['name'].apply(lambda x: WordCount(x))\ntestDF['name_len'] = testDF['name'].apply(lambda x: WordCount(x))\ntrainDF.head()",
      "execution_count": 10,
      "outputs": [
        {
          "output_type": "execute_result",
          "execution_count": 10,
          "data": {
            "text/plain": "   train_id                                 name  item_condition_id  \\\n0         0  MLB Cincinnati Reds T Shirt Size XL                  3   \n1         1     Razer BlackWidow Chroma Keyboard                  3   \n2         2                       AVA-VIV Blouse                  1   \n3         3                Leather Horse Statues                  1   \n4         4                 24K GOLD plated rose                  1   \n\n                                       category_name brand_name  price  \\\n0                                  Men/Tops/T-shirts        NaN   10.0   \n1  Electronics/Computers & Tablets/Components & P...      Razer   52.0   \n2                        Women/Tops & Blouses/Blouse     Target   10.0   \n3                 Home/Home Décor/Home Décor Accents        NaN   35.0   \n4                            Women/Jewelry/Necklaces        NaN   44.0   \n\n   shipping                                   item_description  desc_len  \\\n0         1                                 No description yet         0   \n1         0  This keyboard is in great condition and works ...        36   \n2         1  Adorable top with a hint of lace and a key hol...        29   \n3         1  New with tags. Leather horses. Retail for [rm]...        32   \n4         0          Complete with certificate of authenticity         5   \n\n   name_len  \n0         7  \n1         4  \n2         2  \n3         3  \n4         4  ",
            "text/html": "<div>\n<style scoped>\n    .dataframe tbody tr th:only-of-type {\n        vertical-align: middle;\n    }\n\n    .dataframe tbody tr th {\n        vertical-align: top;\n    }\n\n    .dataframe thead th {\n        text-align: right;\n    }\n</style>\n<table border=\"1\" class=\"dataframe\">\n  <thead>\n    <tr style=\"text-align: right;\">\n      <th></th>\n      <th>train_id</th>\n      <th>name</th>\n      <th>item_condition_id</th>\n      <th>category_name</th>\n      <th>brand_name</th>\n      <th>price</th>\n      <th>shipping</th>\n      <th>item_description</th>\n      <th>desc_len</th>\n      <th>name_len</th>\n    </tr>\n  </thead>\n  <tbody>\n    <tr>\n      <th>0</th>\n      <td>0</td>\n      <td>MLB Cincinnati Reds T Shirt Size XL</td>\n      <td>3</td>\n      <td>Men/Tops/T-shirts</td>\n      <td>NaN</td>\n      <td>10.0</td>\n      <td>1</td>\n      <td>No description yet</td>\n      <td>0</td>\n      <td>7</td>\n    </tr>\n    <tr>\n      <th>1</th>\n      <td>1</td>\n      <td>Razer BlackWidow Chroma Keyboard</td>\n      <td>3</td>\n      <td>Electronics/Computers &amp; Tablets/Components &amp; P...</td>\n      <td>Razer</td>\n      <td>52.0</td>\n      <td>0</td>\n      <td>This keyboard is in great condition and works ...</td>\n      <td>36</td>\n      <td>4</td>\n    </tr>\n    <tr>\n      <th>2</th>\n      <td>2</td>\n      <td>AVA-VIV Blouse</td>\n      <td>1</td>\n      <td>Women/Tops &amp; Blouses/Blouse</td>\n      <td>Target</td>\n      <td>10.0</td>\n      <td>1</td>\n      <td>Adorable top with a hint of lace and a key hol...</td>\n      <td>29</td>\n      <td>2</td>\n    </tr>\n    <tr>\n      <th>3</th>\n      <td>3</td>\n      <td>Leather Horse Statues</td>\n      <td>1</td>\n      <td>Home/Home Décor/Home Décor Accents</td>\n      <td>NaN</td>\n      <td>35.0</td>\n      <td>1</td>\n      <td>New with tags. Leather horses. Retail for [rm]...</td>\n      <td>32</td>\n      <td>3</td>\n    </tr>\n    <tr>\n      <th>4</th>\n      <td>4</td>\n      <td>24K GOLD plated rose</td>\n      <td>1</td>\n      <td>Women/Jewelry/Necklaces</td>\n      <td>NaN</td>\n      <td>44.0</td>\n      <td>0</td>\n      <td>Complete with certificate of authenticity</td>\n      <td>5</td>\n      <td>4</td>\n    </tr>\n  </tbody>\n</table>\n</div>"
          },
          "metadata": {}
        }
      ]
    },
    {
      "metadata": {
        "_uuid": "10df81911a2e80e71bf8e2020f97604bdc240812",
        "_cell_guid": "f9ef58be-078a-44a3-9e73-510e88054afb"
      },
      "cell_type": "markdown",
      "source": "<a id=\"Adding_SubCategories\"></a>\n#### Adding SubCategories"
    },
    {
      "metadata": {
        "_uuid": "4b7fc1b9110be153c3582c28d2b3ffe7eb02efd8",
        "_cell_guid": "0e0e3e10-fca3-4064-8944-f8ab64c6d6b0"
      },
      "cell_type": "markdown",
      "source": "Mostly there are three subcategories in category name. \n**SplitCategory** function generates three new columns by splitting category_name in to three sub categories."
    },
    {
      "metadata": {
        "_uuid": "a2d2942d167d1eb3a539035e67ef9a8950eaf4f1",
        "collapsed": true,
        "_cell_guid": "2f30c815-ed53-40b3-a916-a23f7df03d34",
        "trusted": true
      },
      "cell_type": "code",
      "source": "# split category name into 3 parts\ndef split_cat(text):\n    try: return text.split(\"/\")\n    except: return (\"No Label\", \"No Label\", \"No Label\")\ntrainDF['subcat_0'], trainDF['subcat_1'], trainDF['subcat_2'] = \\\nzip(*trainDF['category_name'].apply(lambda x: split_cat(x)))\ntestDF['subcat_0'], testDF['subcat_1'], testDF['subcat_2'] = \\\nzip(*testDF['category_name'].apply(lambda x: split_cat(x)))",
      "execution_count": 11,
      "outputs": []
    },
    {
      "metadata": {
        "_uuid": "3cea510970b24c50873296e4b821b3c0c1e73a2b",
        "_cell_guid": "d438e9e9-9a49-4e35-9b8c-1c16456647f8",
        "trusted": true
      },
      "cell_type": "code",
      "source": "trainDF.head()",
      "execution_count": 12,
      "outputs": [
        {
          "output_type": "execute_result",
          "execution_count": 12,
          "data": {
            "text/plain": "   train_id                                 name  item_condition_id  \\\n0         0  MLB Cincinnati Reds T Shirt Size XL                  3   \n1         1     Razer BlackWidow Chroma Keyboard                  3   \n2         2                       AVA-VIV Blouse                  1   \n3         3                Leather Horse Statues                  1   \n4         4                 24K GOLD plated rose                  1   \n\n                                       category_name brand_name  price  \\\n0                                  Men/Tops/T-shirts        NaN   10.0   \n1  Electronics/Computers & Tablets/Components & P...      Razer   52.0   \n2                        Women/Tops & Blouses/Blouse     Target   10.0   \n3                 Home/Home Décor/Home Décor Accents        NaN   35.0   \n4                            Women/Jewelry/Necklaces        NaN   44.0   \n\n   shipping                                   item_description  desc_len  \\\n0         1                                 No description yet         0   \n1         0  This keyboard is in great condition and works ...        36   \n2         1  Adorable top with a hint of lace and a key hol...        29   \n3         1  New with tags. Leather horses. Retail for [rm]...        32   \n4         0          Complete with certificate of authenticity         5   \n\n   name_len     subcat_0             subcat_1            subcat_2  \n0         7          Men                 Tops            T-shirts  \n1         4  Electronics  Computers & Tablets  Components & Parts  \n2         2        Women       Tops & Blouses              Blouse  \n3         3         Home           Home Décor  Home Décor Accents  \n4         4        Women              Jewelry           Necklaces  ",
            "text/html": "<div>\n<style scoped>\n    .dataframe tbody tr th:only-of-type {\n        vertical-align: middle;\n    }\n\n    .dataframe tbody tr th {\n        vertical-align: top;\n    }\n\n    .dataframe thead th {\n        text-align: right;\n    }\n</style>\n<table border=\"1\" class=\"dataframe\">\n  <thead>\n    <tr style=\"text-align: right;\">\n      <th></th>\n      <th>train_id</th>\n      <th>name</th>\n      <th>item_condition_id</th>\n      <th>category_name</th>\n      <th>brand_name</th>\n      <th>price</th>\n      <th>shipping</th>\n      <th>item_description</th>\n      <th>desc_len</th>\n      <th>name_len</th>\n      <th>subcat_0</th>\n      <th>subcat_1</th>\n      <th>subcat_2</th>\n    </tr>\n  </thead>\n  <tbody>\n    <tr>\n      <th>0</th>\n      <td>0</td>\n      <td>MLB Cincinnati Reds T Shirt Size XL</td>\n      <td>3</td>\n      <td>Men/Tops/T-shirts</td>\n      <td>NaN</td>\n      <td>10.0</td>\n      <td>1</td>\n      <td>No description yet</td>\n      <td>0</td>\n      <td>7</td>\n      <td>Men</td>\n      <td>Tops</td>\n      <td>T-shirts</td>\n    </tr>\n    <tr>\n      <th>1</th>\n      <td>1</td>\n      <td>Razer BlackWidow Chroma Keyboard</td>\n      <td>3</td>\n      <td>Electronics/Computers &amp; Tablets/Components &amp; P...</td>\n      <td>Razer</td>\n      <td>52.0</td>\n      <td>0</td>\n      <td>This keyboard is in great condition and works ...</td>\n      <td>36</td>\n      <td>4</td>\n      <td>Electronics</td>\n      <td>Computers &amp; Tablets</td>\n      <td>Components &amp; Parts</td>\n    </tr>\n    <tr>\n      <th>2</th>\n      <td>2</td>\n      <td>AVA-VIV Blouse</td>\n      <td>1</td>\n      <td>Women/Tops &amp; Blouses/Blouse</td>\n      <td>Target</td>\n      <td>10.0</td>\n      <td>1</td>\n      <td>Adorable top with a hint of lace and a key hol...</td>\n      <td>29</td>\n      <td>2</td>\n      <td>Women</td>\n      <td>Tops &amp; Blouses</td>\n      <td>Blouse</td>\n    </tr>\n    <tr>\n      <th>3</th>\n      <td>3</td>\n      <td>Leather Horse Statues</td>\n      <td>1</td>\n      <td>Home/Home Décor/Home Décor Accents</td>\n      <td>NaN</td>\n      <td>35.0</td>\n      <td>1</td>\n      <td>New with tags. Leather horses. Retail for [rm]...</td>\n      <td>32</td>\n      <td>3</td>\n      <td>Home</td>\n      <td>Home Décor</td>\n      <td>Home Décor Accents</td>\n    </tr>\n    <tr>\n      <th>4</th>\n      <td>4</td>\n      <td>24K GOLD plated rose</td>\n      <td>1</td>\n      <td>Women/Jewelry/Necklaces</td>\n      <td>NaN</td>\n      <td>44.0</td>\n      <td>0</td>\n      <td>Complete with certificate of authenticity</td>\n      <td>5</td>\n      <td>4</td>\n      <td>Women</td>\n      <td>Jewelry</td>\n      <td>Necklaces</td>\n    </tr>\n  </tbody>\n</table>\n</div>"
          },
          "metadata": {}
        }
      ]
    },
    {
      "metadata": {
        "_uuid": "872a6d8310495ab1c78c36b520efe872fee9c8d0",
        "_cell_guid": "bb3d8bef-661f-482b-92b2-8fc4c0d25790"
      },
      "cell_type": "markdown",
      "source": "<a id=\"Retrieving_Brand_Name\"></a>\n#### Retreiving Brand Name"
    },
    {
      "metadata": {
        "_uuid": "ff44261eb0aada91f6466f6f0721c999614116a1",
        "_cell_guid": "8327d8ec-392c-4c84-abb2-61a03aec9b94"
      },
      "cell_type": "markdown",
      "source": "Retriving missing brand names"
    },
    {
      "metadata": {
        "_uuid": "f7bb0fc8955e673b0ff3813c41dbd80ea256471a",
        "_cell_guid": "99563020-b1c5-4a8a-acd5-13f0e66e1866",
        "collapsed": true,
        "trusted": true
      },
      "cell_type": "code",
      "source": "full_set = pd.concat([trainDF,testDF])\nbrands = set(full_set['brand_name'].values)\ntrainDF.brand_name.fillna(value=\"missing\", inplace=True)\ntestDF.brand_name.fillna(value=\"missing\", inplace=True)",
      "execution_count": 13,
      "outputs": []
    },
    {
      "metadata": {
        "scrolled": true,
        "_uuid": "35253194d51357fb37053bbe849cade91d77c35f",
        "_cell_guid": "56b94742-0a2e-48c8-be99-2ff85c464ad0",
        "trusted": true
      },
      "cell_type": "code",
      "source": "print(\"Missing brand names\")\nprint (\"Number of items with missing brand names in training set : {missingTrain} \".format(missingTrain=len(trainDF.loc[trainDF['brand_name'] == 'missing'])))\nprint (\"Number of items with missing brand names in test set : {missingTest} \".format(missingTest=len(testDF.loc[testDF['brand_name'] == 'missing'])))",
      "execution_count": 14,
      "outputs": [
        {
          "output_type": "stream",
          "text": "Missing brand names\nNumber of items with missing brand names in training set : 632336 \nNumber of items with missing brand names in test set : 295525 \n",
          "name": "stdout"
        }
      ]
    },
    {
      "metadata": {
        "_uuid": "06b8facfad26cb61cefa4c742bbefa9a6a8157f1",
        "_cell_guid": "6a60f581-2aba-443c-a98e-453f337c7df6",
        "trusted": true
      },
      "cell_type": "code",
      "source": "uniqueBrands = trainDF[\"brand_name\"].value_counts()\nprint(\"There are\", uniqueBrands.size, \"unique known brands.\")",
      "execution_count": 15,
      "outputs": [
        {
          "output_type": "stream",
          "text": "There are 4808 unique known brands.\n",
          "name": "stdout"
        }
      ]
    },
    {
      "metadata": {
        "_uuid": "66e2e32b69b05f4400bd5441a395741ae6c3b77c",
        "_cell_guid": "a9572a2d-37a4-41d5-a3fc-4dae46ef6edf"
      },
      "cell_type": "markdown",
      "source": "For some items brand names could be made out from their name.\n *BrandFinder* is the function which will do this.  "
    },
    {
      "metadata": {
        "_uuid": "de7978aaf12c4d92ce323d8d4f5eaf32e011eef3",
        "collapsed": true,
        "_cell_guid": "6dba67ca-14c1-4f91-8598-fc15ca892d72",
        "trusted": true
      },
      "cell_type": "code",
      "source": "# get to finding!\nmissingBrandNamesTrain = len(trainDF.loc[trainDF['brand_name'] == 'missing'])\nmissingBrandNamesTest = len(testDF.loc[testDF['brand_name'] == 'missing'])\ndef brandfinder(line):\n    brand = line[0]\n    name = line[1]\n    namesplit = name.split(' ')\n    if brand == 'missing':\n        for x in namesplit:\n            if x in brands:\n                return name\n    if name in brands:\n        return name\n    return brand",
      "execution_count": 16,
      "outputs": []
    },
    {
      "metadata": {
        "_uuid": "ec9d3b6247261beb1b607cd92d0d60963ce18d07",
        "collapsed": true,
        "_cell_guid": "a831b96f-954e-4178-b55e-24a1a5976a1a",
        "trusted": true
      },
      "cell_type": "code",
      "source": "trainDF['brand_name'] = trainDF[['brand_name','name']].apply(brandfinder, axis = 1)\ntestDF['brand_name'] = testDF[['brand_name','name']].apply(brandfinder, axis = 1)\nfoundBrandNamesTrain = missingBrandNamesTrain-len(trainDF.loc[trainDF['brand_name'] == 'missing'])\nfoundBrandNamesTest = missingBrandNamesTest-len(testDF.loc[testDF['brand_name'] == 'missing'])",
      "execution_count": 17,
      "outputs": []
    },
    {
      "metadata": {
        "_uuid": "f0e0c93e28089bed37ed4517cb727c33d00de669",
        "_cell_guid": "329af3aa-8f32-4e34-aaa0-08571ea317da",
        "trusted": true
      },
      "cell_type": "code",
      "source": "print (\"Found brand names for {foundTrain} items in training set \".format(foundTrain = foundBrandNamesTrain))\nprint (\"Found brand names for {foundTest} items in test set \".format(foundTest = foundBrandNamesTest))",
      "execution_count": 18,
      "outputs": [
        {
          "output_type": "stream",
          "text": "Found brand names for 137342 items in training set \nFound brand names for 64154 items in test set \n",
          "name": "stdout"
        }
      ]
    },
    {
      "metadata": {
        "_uuid": "2e66f29341c6eeafbf924a012e454e5cd8dfcbf7",
        "_cell_guid": "13df4760-c72d-449a-9b19-89970ee37bc3",
        "trusted": true
      },
      "cell_type": "code",
      "source": "# Scale target variable to log.\ntrainDF[\"target\"] = np.log1p(trainDF.price)\n\n# Split training examples into train/dev examples.\ntrainDF, validationDF = train_test_split(trainDF, random_state=123, train_size=0.99)",
      "execution_count": 19,
      "outputs": [
        {
          "output_type": "stream",
          "text": "/opt/conda/lib/python3.6/site-packages/sklearn/model_selection/_split.py:2026: FutureWarning: From version 0.21, test_size will always complement train_size unless both are specified.\n  FutureWarning)\n",
          "name": "stderr"
        }
      ]
    },
    {
      "metadata": {
        "_uuid": "89508884b04236210d5cc1a75b867e5e0cd2395f",
        "_cell_guid": "e99ed964-0acc-415b-988d-c92a318b99ec",
        "trusted": true
      },
      "cell_type": "code",
      "source": "# Calculate number of train/dev/test examples.\nprint(\"Training on\",trainDF.shape[0], \"samples\")\nprint(\"Validating on\", validationDF.shape[0], \"samples\")\nprint(\"Testing on\", testDF.shape[0], \"samples\")",
      "execution_count": 20,
      "outputs": [
        {
          "output_type": "stream",
          "text": "Training on 1466844 samples\nValidating on 14817 samples\nTesting on 693359 samples\n",
          "name": "stdout"
        }
      ]
    },
    {
      "metadata": {
        "_uuid": "da7011311372ac8e3cd2f9e1f68bd370aed92b0b",
        "collapsed": true,
        "_cell_guid": "d3d698bc-518e-4037-95ea-fb4080bf6b59",
        "trusted": true
      },
      "cell_type": "code",
      "source": "fullDF = pd.concat([trainDF, validationDF, testDF])\n",
      "execution_count": 21,
      "outputs": []
    },
    {
      "metadata": {
        "_uuid": "8517dbd68b8177c03a84777bbd0f0effeb200e3c",
        "_cell_guid": "1f9e912d-1168-4a3c-9680-070f6c99e75b"
      },
      "cell_type": "markdown",
      "source": "<a id=\"Handling_Missing_Data\"></a>\n#### Handling Missing Data"
    },
    {
      "metadata": {
        "_uuid": "e64d567cd354c4e33910aba7f6d219b19fec2f6e",
        "_cell_guid": "0fb74cf0-021f-479a-ba5b-192873a8be24",
        "trusted": true
      },
      "cell_type": "code",
      "source": "def FillMissingValues(df):\n    df.category_name.fillna(value=\"missing\", inplace=True)\n    df.brand_name.fillna(value=\"missing\", inplace=True)\n    df.item_description.fillna(value=\"missing\", inplace=True)\n    df.item_description.replace('No description yet',\"missing\", inplace=True)\n    return df\n\nprint(\"Filling missing data...\")\nfull_df = FillMissingValues(fullDF)\n",
      "execution_count": 22,
      "outputs": [
        {
          "output_type": "stream",
          "text": "Filling missing data...\n",
          "name": "stdout"
        }
      ]
    },
    {
      "metadata": {
        "_uuid": "1b2fa1e5cdb4d022601639bb2044dae684868f19",
        "_cell_guid": "4ede583d-0423-44d0-a779-18d99c9c443a"
      },
      "cell_type": "markdown",
      "source": "<a id=\"categorical_data\"></a>\n#### Categorical Data"
    },
    {
      "metadata": {
        "_uuid": "3a3ec42fe0fe49e209879adddf1e629ba38d9b7c",
        "_cell_guid": "c31ab3c6-c31b-46bb-83f2-e87720d92057",
        "trusted": true
      },
      "cell_type": "code",
      "source": "print(\"Processing categorical data...\")\nle = LabelEncoder()\n# full_df.category = full_df.category_name\nle.fit(fullDF.category_name)\nfullDF['category'] = le.transform(fullDF.category_name)\n\nle.fit(fullDF.brand_name)\nfullDF.brand_name = le.transform(fullDF.brand_name)\n\nle.fit(fullDF.subcat_0)\nfullDF.subcat_0 = le.transform(fullDF.subcat_0)\n\nle.fit(fullDF.subcat_1)\nfullDF.subcat_1 = le.transform(fullDF.subcat_1)\n\nle.fit(fullDF.subcat_2)\nfullDF.subcat_2 = le.transform(fullDF.subcat_2)\n\ndel le",
      "execution_count": 23,
      "outputs": [
        {
          "output_type": "stream",
          "text": "Processing categorical data...\n",
          "name": "stdout"
        }
      ]
    },
    {
      "metadata": {
        "_uuid": "a69009430465551001d54e66c433e60a957700eb",
        "_cell_guid": "00eeda54-a9a3-4c41-8dcb-811654abf73a"
      },
      "cell_type": "markdown",
      "source": "<a id=\"Text_to_Sequence\"></a>\n#### Text to Sequence"
    },
    {
      "metadata": {
        "_uuid": "1dd68bc47e6c0b08525a1ae1e2fadd61a7f4a55c",
        "_cell_guid": "89254563-d087-4a9d-83c0-e55fc4765d01",
        "trusted": true
      },
      "cell_type": "code",
      "source": "print(\"Transforming text data to sequences...\")\nraw_text = np.hstack([fullDF.item_description.str.lower(), fullDF.name.str.lower(), fullDF.category_name.str.lower()])\n\nprint(\"   Fitting tokenizer...\")\ntok_raw = Tokenizer()\ntok_raw.fit_on_texts(raw_text)\n\nprint(\"   Transforming text to sequences...\")\nfullDF['seq_item_description'] = tok_raw.texts_to_sequences(fullDF.item_description.str.lower())\nfullDF['seq_name'] = tok_raw.texts_to_sequences(fullDF.name.str.lower())\n# full_df['seq_category'] = tok_raw.texts_to_sequences(full_df.category_name.str.lower())\n\ndel tok_raw",
      "execution_count": 24,
      "outputs": [
        {
          "output_type": "stream",
          "text": "Transforming text data to sequences...\n   Fitting tokenizer...\n   Transforming text to sequences...\n",
          "name": "stdout"
        }
      ]
    },
    {
      "metadata": {
        "_uuid": "2f9652fadb3cb4bea5386a928ce416bcdb4fe3ab",
        "_cell_guid": "889855fc-9081-4f3d-80ad-20ebfc72cd4b",
        "trusted": true
      },
      "cell_type": "code",
      "source": "\nbrands = trainDF[\"brand_name\"].value_counts()\nplt.figure(1,figsize = (18,8))\nplt.subplot(121)\nsns.barplot(brands[1:11].values, brands[1:11].index)\nplt.title(\"Top 10  brand in store: Training set\")\n#plt.show()\n\nplt.subplot(122)\nsns.barplot(brands[1:11].values, brands[1:11].index)\nplt.title(\"Top 10  brand in store: Test set\")\nplt.subplots_adjust(top=0.92, bottom=0.08, left=0.10, right=0.95, hspace=6.55, wspace=0.55)\nplt.show()\n\n",
      "execution_count": 25,
      "outputs": [
        {
          "output_type": "display_data",
          "data": {
            "text/plain": "<matplotlib.figure.Figure at 0x7fa10bcf57b8>",
            "image/png": "[encoded data removed]"
          },
          "metadata": {}
        }
      ]
    },
    {
      "metadata": {
        "_uuid": "0f3f9948e42d1c435b9ba61918506c19063248d4",
        "_cell_guid": "5336d4c7-89e9-4ec3-8dea-a51b84cb2553"
      },
      "cell_type": "markdown",
      "source": "It can be seen that data distribution is same for test and train sets"
    },
    {
      "metadata": {
        "_uuid": "87dac5eb7daae7363899ac90f2ed9a6045521d41",
        "_cell_guid": "7078e5fc-6343-42a0-838b-17dc1260e79f"
      },
      "cell_type": "markdown",
      "source": "<a id=\"rmsle\"></a>\n#### RMSLE\n\n\nRoot Mean Squared Logarithmic Error (RMSLE)\n$$\\sqrt{ \\frac{1}{N} \\sum_{i=1}^N (\\log(Y_{p}) - \\log(Y_{t}))^2 }$$\n$ Y_{p}:  predicted    $ \n\n$ Y_{t}:  true  $"
    },
    {
      "metadata": {
        "_uuid": "22588a69e3c725a3260112de71d9988c52654ca8",
        "_cell_guid": "cfcf463b-0b39-4d5d-b7d9-8622845f6335",
        "collapsed": true,
        "trusted": false
      },
      "cell_type": "code",
      "source": "def RMSLE (predicted, true):\n    assert len(predicted) == len(true)\n    return np.sqrt(np.mean(np.power(np.log1p(predicted) - np.log1p(true), 2)))",
      "execution_count": null,
      "outputs": []
    },
    {
      "metadata": {
        "_uuid": "3416d300e00176689783e41fe0df83a010c0a1b2",
        "_cell_guid": "191f3892-2b06-42d5-b6a7-f78bead50dd2"
      },
      "cell_type": "markdown",
      "source": "<a id=\"rnn_model\"></a>\n## <center>RNN Model</center>"
    },
    {
      "metadata": {
        "_uuid": "4d71b03e8ee79f53a79e787f4d03f4f54d54d333",
        "_cell_guid": "9f3785c1-14f1-4ca8-887c-5b1d00736925"
      },
      "cell_type": "markdown",
      "source": "<a id=\"Model_Building\"></a>\n#### Model Building"
    },
    {
      "metadata": {
        "_uuid": "ca7b66c95da0bef9dda21570a5e45cbd423f342f",
        "_cell_guid": "f0197b77-db98-4627-88c2-adea22896a0b"
      },
      "cell_type": "markdown",
      "source": "These are some of the constants related to data."
    },
    {
      "metadata": {
        "_uuid": "879824273ac8d736a442aefcdf03422ef8a4d1ad",
        "collapsed": true,
        "_cell_guid": "4cc97cb8-dc67-4720-8445-2dfbf227b968",
        "trusted": false
      },
      "cell_type": "code",
      "source": "MAX_NAME_SEQ = 10 \nMAX_ITEM_DESC_SEQ = 75 \nMAX_CATEGORY_SEQ = 8 \nMAX_TEXT = np.max([ np.max(fullDF.seq_name.max()),np.max(fullDF.seq_item_description.max())]) + 100\nMAX_CATEGORY = np.max(fullDF.category.max()) + 1\nMAX_BRAND = np.max(fullDF.brand_name.max()) + 1\nMAX_CONDITION = np.max(fullDF.item_condition_id.max()) + 1\nMAX_DESC_LEN = np.max(fullDF.desc_len.max()) + 1\nMAX_NAME_LEN = np.max(fullDF.name_len.max()) + 1\nMAX_SUBCAT_0 = np.max(fullDF.subcat_0.max()) + 1\nMAX_SUBCAT_1 = np.max(fullDF.subcat_1.max()) + 1\nMAX_SUBCAT_2 = np.max(fullDF.subcat_2.max()) + 1",
      "execution_count": null,
      "outputs": []
    },
    {
      "metadata": {
        "_uuid": "6c7a0ad8b5de11087c55cd0f10df7a723f3d6ddd",
        "collapsed": true,
        "_cell_guid": "2a33fdd7-f1ea-46d7-9d00-001dc8a7f13d",
        "trusted": false
      },
      "cell_type": "code",
      "source": "n_trains = trainDF.shape[0]\nn_validate = validationDF.shape[0]\nn_tests = testDF.shape[0]",
      "execution_count": null,
      "outputs": []
    },
    {
      "metadata": {
        "_uuid": "ddc067493e1c73fa603d2d271858740f0e470436",
        "collapsed": true,
        "_cell_guid": "dc6ae5d1-89a5-491d-9ee8-dbbc60486884",
        "trusted": false
      },
      "cell_type": "code",
      "source": "def get_rnn_data(dataset):\n    X = {\n        'name': pad_sequences(dataset.seq_name, maxlen=MAX_NAME_SEQ),\n        'item_desc': pad_sequences(dataset.seq_item_description, maxlen=MAX_ITEM_DESC_SEQ),\n        'brand_name': np.array(dataset.brand_name),\n        'category': np.array(dataset.category),\n#         'category_name': pad_sequences(dataset.seq_category, maxlen=MAX_CATEGORY_SEQ),\n        'item_condition': np.array(dataset.item_condition_id),\n        'num_vars': np.array(dataset[[\"shipping\"]]),\n        'desc_len': np.array(dataset[[\"desc_len\"]]),\n        'name_len': np.array(dataset[[\"name_len\"]]),\n        'subcat_0': np.array(dataset.subcat_0),\n        'subcat_1': np.array(dataset.subcat_1),\n        'subcat_2': np.array(dataset.subcat_2),\n    }\n    return X\n\n",
      "execution_count": null,
      "outputs": []
    },
    {
      "metadata": {
        "_uuid": "a10350fb04cd8bb0dfada385526a3080994ee3e0",
        "_cell_guid": "d379c434-8ded-474c-b859-1618dd9eef56",
        "trusted": false,
        "collapsed": true
      },
      "cell_type": "code",
      "source": "train = fullDF[:n_trains]\nvalidate = fullDF[n_trains:n_trains+n_validate]\ntest = fullDF[n_trains+n_validate:]\n\nX_train = get_rnn_data(train)\nY_train = train.target.values.reshape(-1, 1)\n\nX_validate = get_rnn_data(validate)\nY_validate = validate.target.values.reshape(-1, 1)\n\nX_test = get_rnn_data(test)",
      "execution_count": null,
      "outputs": []
    },
    {
      "metadata": {
        "_uuid": "b59a191630106946eaf18e6e76dc95624157601e",
        "_cell_guid": "9b081fdb-9e2b-4974-96af-0c9d99d60a04",
        "trusted": false,
        "collapsed": true
      },
      "cell_type": "code",
      "source": "# set seed again in case testing models adjustments by looping next 2 blocks\nnp.random.seed(123)\n\ndef new_rnn_model(lr=0.001, decay=0.0):\n    # Inputs\n    name = Input(shape=[X_train[\"name\"].shape[1]], name=\"name\")\n    item_desc = Input(shape=[X_train[\"item_desc\"].shape[1]], name=\"item_desc\")\n    brand_name = Input(shape=[1], name=\"brand_name\")\n#     category = Input(shape=[1], name=\"category\")\n#     category_name = Input(shape=[X_train[\"category_name\"].shape[1]], name=\"category_name\")\n    item_condition = Input(shape=[1], name=\"item_condition\")\n    num_vars = Input(shape=[X_train[\"num_vars\"].shape[1]], name=\"num_vars\")\n    desc_len = Input(shape=[1], name=\"desc_len\")\n    name_len = Input(shape=[1], name=\"name_len\")\n    subcat_0 = Input(shape=[1], name=\"subcat_0\")\n    subcat_1 = Input(shape=[1], name=\"subcat_1\")\n    subcat_2 = Input(shape=[1], name=\"subcat_2\")\n\n    # Embeddings layers (adjust outputs to help model)\n    emb_name = Embedding(MAX_TEXT, 20)(name)\n    emb_item_desc = Embedding(MAX_TEXT, 60)(item_desc)\n    emb_brand_name = Embedding(MAX_BRAND, 10)(brand_name)\n#     emb_category_name = Embedding(MAX_TEXT, 20)(category_name)\n#     emb_category = Embedding(MAX_CATEGORY, 10)(category)\n    emb_item_condition = Embedding(MAX_CONDITION, 5)(item_condition)\n    emb_desc_len = Embedding(MAX_DESC_LEN, 5)(desc_len)\n    emb_name_len = Embedding(MAX_NAME_LEN, 5)(name_len)\n    emb_subcat_0 = Embedding(MAX_SUBCAT_0, 10)(subcat_0)\n    emb_subcat_1 = Embedding(MAX_SUBCAT_1, 10)(subcat_1)\n    emb_subcat_2 = Embedding(MAX_SUBCAT_2, 10)(subcat_2)\n    \n\n    # rnn layers (GRUs are faster than LSTMs and speed is important here)\n    rnn_layer1 = GRU(16) (emb_item_desc)\n    rnn_layer2 = GRU(8) (emb_name)\n#     rnn_layer3 = GRU(8) (emb_category_name)\n\n    # main layers\n    main_l = concatenate([\n        Flatten() (emb_brand_name)\n#         , Flatten() (emb_category)\n        , Flatten() (emb_item_condition)\n        , Flatten() (emb_desc_len)\n        , Flatten() (emb_name_len)\n        , Flatten() (emb_subcat_0)\n        , Flatten() (emb_subcat_1)\n        , Flatten() (emb_subcat_2)\n        , rnn_layer1\n        , rnn_layer2\n#         , rnn_layer3\n        , num_vars\n    ])\n    # (incressing the nodes or adding layers does not effect the time quite as much as the rnn layers)\n    main_l = Dropout(0.1)(Dense(512,kernel_initializer='normal',activation='relu') (main_l))\n    main_l = Dropout(0.1)(Dense(256,kernel_initializer='normal',activation='relu') (main_l))\n    main_l = Dropout(0.1)(Dense(128,kernel_initializer='normal',activation='relu') (main_l))\n    main_l = Dropout(0.1)(Dense(64,kernel_initializer='normal',activation='relu') (main_l))\n\n    # the output layer.\n    output = Dense(1, activation=\"linear\") (main_l)\n    \n    model = Model([name, item_desc, brand_name , item_condition, \n                   num_vars, desc_len, name_len, subcat_0, subcat_1, subcat_2], output)\n\n    optimizer = Adam(lr=lr, decay=decay)\n    # (mean squared error loss function works as well as custom functions)  \n    model.compile(loss = 'mse', optimizer = optimizer)\n\n    return model\n\nmodel = new_rnn_model()\nmodel.summary()\ndel model",
      "execution_count": null,
      "outputs": []
    },
    {
      "metadata": {
        "_uuid": "df6680a03030603432001ff11706cd4b8ff79f41",
        "_cell_guid": "506b7afe-903e-4fe7-8a1a-d5a18542c1a5",
        "trusted": false,
        "collapsed": true
      },
      "cell_type": "code",
      "source": "BATCH_SIZE = 512 * 3\nepochs = 2\n\n# Calculate learning rate decay.\nexp_decay = lambda init, fin, steps: (init/fin)**(1/(steps-1)) - 1\nsteps = int(len(X_train['name']) / BATCH_SIZE) * epochs\nlr_init, lr_fin = 0.005, 0.001\nlr_decay = exp_decay(lr_init, lr_fin, steps)\n\n# Create model and fit it with training dataset.\nrnn_model = new_rnn_model(lr=lr_init, decay=lr_decay)\nrnn_model.fit(\n        X_train, Y_train, epochs=epochs, batch_size=BATCH_SIZE,\n        validation_data=(X_validate, Y_validate), verbose=1,\n)\n",
      "execution_count": null,
      "outputs": []
    },
    {
      "metadata": {
        "_uuid": "b2914624f00600859319ea9250deeaf025b2436b",
        "_cell_guid": "7df8ab0d-463c-4fd2-a7b9-ea71420ba5ac"
      },
      "cell_type": "markdown",
      "source": "<a id=\"Model_Evaluation\"></a>\n#### Model Evaluation"
    },
    {
      "metadata": {
        "_uuid": "2b9b006949d9ade1f325eea3c0ff0cdbef15046c",
        "collapsed": true,
        "_cell_guid": "c3f10896-a0d6-458b-af18-b1e6baff8e40",
        "trusted": false
      },
      "cell_type": "code",
      "source": "print(\"Evaluating the model on validation data...\")\nY_validate_preds_rnn = rnn_model.predict(X_validate, batch_size=BATCH_SIZE)\nprint(\" RMSLE error:\", RMSLE(Y_validate, Y_validate_preds_rnn))",
      "execution_count": null,
      "outputs": []
    },
    {
      "metadata": {
        "_uuid": "d0b58a6af269ecbd956947e25fcc8619d0a458ba",
        "_cell_guid": "364b517f-9390-435c-bc64-10720e5c2db0"
      },
      "cell_type": "markdown",
      "source": "<a id=\"Model_Output\"></a>\n#### Model Output"
    },
    {
      "metadata": {
        "_uuid": "c529a90b6af84d2f0628ad39423b2158a93b35c0",
        "collapsed": true,
        "_cell_guid": "f6293325-aa89-4d9c-ac16-6f52ba0c95cb",
        "trusted": false
      },
      "cell_type": "code",
      "source": "rnn_preds = rnn_model.predict(X_test, batch_size=BATCH_SIZE, verbose=1)\nrnn_preds = np.expm1(rnn_preds)",
      "execution_count": null,
      "outputs": []
    },
    {
      "metadata": {
        "_uuid": "f9354832c3dcdf17a0cc18052f206af1cd190db1",
        "_cell_guid": "6e9f3426-32c3-4fe3-bd26-34f459a6608d"
      },
      "cell_type": "markdown",
      "source": "<a id=\"ridge_model\"></a>\n## <center>Ridge Model</center>"
    },
    {
      "metadata": {
        "_uuid": "e49812396e1f860a0260d4a7a97db014ff8997d8",
        "collapsed": true,
        "_cell_guid": "2123c1db-000a-4e8d-86dd-401b83e7ba82",
        "trusted": false
      },
      "cell_type": "code",
      "source": "fullDF = pd.concat([trainDF, validationDF, testDF])",
      "execution_count": null,
      "outputs": []
    },
    {
      "metadata": {
        "_uuid": "9e6ecee4afc26e83e2d88ac69b847612cbfebe66",
        "_cell_guid": "de6ba5ee-5162-4b87-b681-9a652e7a164c"
      },
      "cell_type": "markdown",
      "source": "Converting to string"
    },
    {
      "metadata": {
        "_uuid": "07ff449421111110fbd41788275311d7a111583f",
        "collapsed": true,
        "_cell_guid": "cee72fce-f733-439d-9cd6-59e8f45886f6",
        "trusted": false
      },
      "cell_type": "code",
      "source": "print(\"Handling missing values...\")\nfullDF['category_name'] = fullDF['category_name'].fillna('missing').astype(str)\nfullDF['subcat_0'] = fullDF['subcat_0'].astype(str)\nfullDF['subcat_1'] = fullDF['subcat_1'].astype(str)\nfullDF['subcat_2'] = fullDF['subcat_2'].astype(str)\nfullDF['brand_name'] = fullDF['brand_name'].fillna('missing').astype(str)\nfullDF['shipping'] = fullDF['shipping'].astype(str)\nfullDF['item_condition_id'] = fullDF['item_condition_id'].astype(str)\nfullDF['desc_len'] = fullDF['desc_len'].astype(str)\nfullDF['name_len'] = fullDF['name_len'].astype(str)\nfullDF['item_description'] = fullDF['item_description'].fillna('No description yet').astype(str)",
      "execution_count": null,
      "outputs": []
    },
    {
      "metadata": {
        "_uuid": "0bc8a0b641f982621126e128126f1651aa76afd4",
        "_cell_guid": "0781540b-b2b3-4d63-82ae-ff83ddb741a5"
      },
      "cell_type": "markdown",
      "source": "**Vectorizig Data**"
    },
    {
      "metadata": {
        "_uuid": "80fa55fa792ebe274ba882bd81c0d0b8aa6e48df",
        "_cell_guid": "b1635a8f-0de7-4eef-8878-2259ac78efb5"
      },
      "cell_type": "markdown",
      "source": "**CountVectorizer** :Converts a collection of text documents to a matrix of token counts"
    },
    {
      "metadata": {
        "_uuid": "d71fab584c44b24d4979d73748f69e31012a09ea",
        "_cell_guid": "a6f58643-4a7b-4189-8bcf-b66ab22e86c9",
        "trusted": false,
        "collapsed": true
      },
      "cell_type": "code",
      "source": "\ndefault_preprocessor = CountVectorizer().build_preprocessor()\ndef build_preprocessor(field):\n    field_idx = list(fullDF.columns).index(field)\n    return lambda x: default_preprocessor(x[field_idx])\n\nvectorizer = FeatureUnion([\n    ('name', CountVectorizer(\n        ngram_range=(1, 2),\n        max_features=50000,\n        preprocessor=build_preprocessor('name'))),\n#     ('category_name', CountVectorizer(\n#         token_pattern='.+',\n#         preprocessor=build_preprocessor('category_name'))),\n    ('subcat_0', CountVectorizer(\n        token_pattern='.+',\n        preprocessor=build_preprocessor('subcat_0'))),\n    ('subcat_1', CountVectorizer(\n        token_pattern='.+',\n        preprocessor=build_preprocessor('subcat_1'))),\n    ('subcat_2', CountVectorizer(\n        token_pattern='.+',\n        preprocessor=build_preprocessor('subcat_2'))),\n    ('brand_name', CountVectorizer(\n        token_pattern='.+',\n        preprocessor=build_preprocessor('brand_name'))),\n    ('shipping', CountVectorizer(\n        token_pattern='\\d+',\n        preprocessor=build_preprocessor('shipping'))),\n    ('item_condition_id', CountVectorizer(\n        token_pattern='\\d+',\n        preprocessor=build_preprocessor('item_condition_id'))),\n    ('desc_len', CountVectorizer(\n        token_pattern='\\d+',\n        preprocessor=build_preprocessor('desc_len'))),\n    ('name_len', CountVectorizer(\n        token_pattern='\\d+',\n        preprocessor=build_preprocessor('name_len'))),\n    ('item_description', TfidfVectorizer(\n        ngram_range=(1, 3),\n        max_features=100000,\n        preprocessor=build_preprocessor('item_description'))),\n])\n\nX = vectorizer.fit_transform(fullDF.values)\n\nX_train = X[:n_trains]\nY_train = trainDF.target.values.reshape(-1, 1)\n\nX_dev = X[n_trains:n_trains+n_devs]\nY_dev = validationDF.target.values.reshape(-1, 1)\n\nX_test = X[n_trains+n_devs:]\nprint(X.shape, X_train.shape, X_dev.shape, X_test.shape)",
      "execution_count": null,
      "outputs": []
    },
    {
      "metadata": {
        "_uuid": "a0fdfd7e913c5aa1440354cb5a02c8f1a73b56ff",
        "_cell_guid": "60a5cfdc-7b4b-4e41-b9d2-fd25a66a6d5d"
      },
      "cell_type": "markdown",
      "source": "This model solves a regression model where the loss function is the linear least squares function and regularization is given by the l2-norm."
    },
    {
      "metadata": {
        "_uuid": "ba806789781211d05d66ba24c688e3c4b2b602b5",
        "_cell_guid": "c2e02e12-5489-43ae-9198-701b7b9b7c4a"
      },
      "cell_type": "markdown",
      "source": "<a id=\"Model_Building1\"></a>\n#### Model Building"
    },
    {
      "metadata": {
        "_uuid": "f3981d8e418f057f075cd4dbadeb0f4659591e3a",
        "collapsed": true,
        "_cell_guid": "50fcbf32-908c-44e0-9edd-1d43343d5c92",
        "trusted": false
      },
      "cell_type": "code",
      "source": "print(\"Fitting Ridge model on training examples...\")\nridge_model = Ridge(\n    solver='auto', fit_intercept=True, alpha=1.0,\n    max_iter=100, normalize=False, tol=0.05, random_state = 1,\n)\nridge_modelCV = RidgeCV(\n    fit_intercept=True, alphas=[5.0],\n    normalize=False, cv = 2, scoring='neg_mean_squared_error',\n)\nridge_model.fit(X_train, Y_train)\nridge_modelCV.fit(X_train, Y_train)",
      "execution_count": null,
      "outputs": []
    },
    {
      "metadata": {
        "_uuid": "ae1ec88b154d53f47045412c5d283c56f7d375f1",
        "_cell_guid": "678842c0-f389-4a4f-ae17-c291350b6b4a"
      },
      "cell_type": "markdown",
      "source": "<a id=\"Model_Evaluation1\"></a>\n#### Model Evaluation"
    },
    {
      "metadata": {
        "_uuid": "752283b8c495d793d022f24fa3c6b25fd3105ce6",
        "collapsed": true,
        "_cell_guid": "f63173f5-8939-4232-bd30-910130b56cfe",
        "trusted": false
      },
      "cell_type": "code",
      "source": "Y_dev_preds_ridge = ridge_model.predict(X_dev)\nY_dev_preds_ridge = Y_validation_preds_ridge.reshape(-1, 1)\nprint(\"RMSL error on validation set:\", rmsle(Y_dev, Y_dev_preds_ridge))",
      "execution_count": null,
      "outputs": []
    },
    {
      "metadata": {
        "_uuid": "9bdd9659e8de98f9b911bd0bce5218ebb2474dc0",
        "collapsed": true,
        "_cell_guid": "a99cce67-743a-4e45-a475-041129835f6f",
        "trusted": false
      },
      "cell_type": "code",
      "source": "Y_dev_preds_ridgeCV = ridge_modelCV.predict(X_dev)\nY_dev_preds_ridgeCV = Y_dev_preds_ridgeCV.reshape(-1, 1)\nprint(\"CV RMSL error on dev set:\", rmsle(Y_dev, Y_dev_preds_ridgeCV))",
      "execution_count": null,
      "outputs": []
    },
    {
      "metadata": {
        "_uuid": "97d0080d80b7aca613f309bbe730fbf01070f8bd",
        "_cell_guid": "f7ec0448-13ad-420a-aa58-ec328c827b0f"
      },
      "cell_type": "markdown",
      "source": "<a id=\"Model_Output1\"></a>\n#### Model Output"
    },
    {
      "metadata": {
        "_uuid": "607154f3f1df5676865bcf4558bb1759238416d8",
        "collapsed": true,
        "_cell_guid": "fd7f58ec-c446-43c1-ac54-b84f58224159",
        "trusted": false
      },
      "cell_type": "code",
      "source": "ridge_preds = ridge_model.predict(X_test)\nridge_preds = np.expm1(ridge_preds)\nridgeCV_preds = ridge_modelCV.predict(X_test)\nridgeCV_preds = np.expm1(ridgeCV_preds)",
      "execution_count": null,
      "outputs": []
    },
    {
      "metadata": {
        "_uuid": "5fd7dfb70a6558948356e1b21a6cd8d07fe01618",
        "_cell_guid": "945f194e-6065-45b5-a062-55de0057c3f0"
      },
      "cell_type": "markdown",
      "source": "<a id=\"ensemblingl\"></a>\n## <center>Ensembling</center>"
    },
    {
      "metadata": {
        "_uuid": "67c5a03b80c25d65b4c80b12b0ca229e280b721d",
        "_cell_guid": "400a6164-62d4-4bc5-a38c-5164078342eb"
      },
      "cell_type": "markdown",
      "source": "Here all the three models are considered. This model will give good result for a pair value of ratio1 and ratio2."
    },
    {
      "metadata": {
        "_uuid": "53ce6b1dbeebbf3a390ba35d5e507999e3454431",
        "collapsed": true,
        "_cell_guid": "bb9d17aa-e0c3-4b31-9847-6d228cb79045",
        "trusted": false
      },
      "cell_type": "code",
      "source": "def aggregate_predicts3(Y1, Y2, Y3, ratio1, ratio2):\n    assert Y1.shape == Y2.shape\n    return Y1 * ratio1 + Y2 * ratio2 + Y3 * (1.0 - ratio1-ratio2)",
      "execution_count": null,
      "outputs": []
    },
    {
      "metadata": {
        "_uuid": "fe24ec02f078660bed2b27d83f1d266af924948d",
        "collapsed": true,
        "_cell_guid": "0405a793-4d28-4570-a503-c1becdc7d707"
      },
      "cell_type": "markdown",
      "source": "<a id=\"Conclusion\"></a>\n## <center>Conclusion</center>"
    },
    {
      "metadata": {
        "_uuid": "04df60f030f7adf4408ecdf8d400debac06dfbef",
        "_cell_guid": "42a9dd75-a703-4cf8-aa12-232786071344"
      },
      "cell_type": "markdown",
      "source": " Gradient boost models like LGBM and XGBoost could be considered.   Given the resource constraint this couldn't be done.\n A better model could be obtained by tweaking RNN parameters. \n"
    },
    {
      "metadata": {
        "_uuid": "c1366a2019f7a948265356a91c0b1822d12892ac",
        "_cell_guid": "83e6a8e4-4573-44bc-9a69-41d1a141d2df"
      },
      "cell_type": "markdown",
      "source": "<a id=\"Refrences\"></a>\n## <center>Refrences</center>"
    },
    {
      "metadata": {
        "_uuid": "7124c5daea567e7903ed443eec414932625e71cb",
        "_cell_guid": "469faccf-d7d3-4646-ad31-4504baac2519"
      },
      "cell_type": "markdown",
      "source": "https://www.kaggle.com/mercari-team"
    },
    {
      "metadata": {
        "_uuid": "92ec0a1c615eaa22f352b87ba966faf44070e389",
        "_cell_guid": "2a1f8a13-2327-40b4-b93a-7c2553194c4b"
      },
      "cell_type": "markdown",
      "source": ""
    }
  ],
  "metadata": {
    "language_info": {
      "name": "python",
      "version": "3.6.4",
      "mimetype": "text/x-python",
      "codemirror_mode": {
        "name": "ipython",
        "version": 3
      },
      "pygments_lexer": "ipython3",
      "nbconvert_exporter": "python",
      "file_extension": ".py"
    },
    "kernelspec": {
      "display_name": "Python 3",
      "language": "python",
      "name": "python3"
    }
  },
  "nbformat": 4,
  "nbformat_minor": 1
}